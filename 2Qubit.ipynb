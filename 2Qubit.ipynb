{
 "cells": [
  {
   "cell_type": "code",
   "execution_count": 1,
   "metadata": {},
   "outputs": [
    {
     "name": "stderr",
     "output_type": "stream",
     "text": [
      "/opt/conda/lib/python3.7/site-packages/qiskit/providers/ibmq/ibmqfactory.py:192: UserWarning: Timestamps in IBMQ backend properties, jobs, and job results are all now in local time instead of UTC.\n",
      "  warnings.warn('Timestamps in IBMQ backend properties, jobs, and job results '\n"
     ]
    }
   ],
   "source": [
    "%matplotlib inline\n",
    "# Importing standard Qiskit libraries and configuring account\n",
    "from qiskit import QuantumCircuit, execute, Aer, IBMQ, QuantumRegister, ClassicalRegister, BasicAer\n",
    "from qiskit.compiler import transpile, assemble\n",
    "from qiskit.tools.jupyter import *\n",
    "from qiskit.visualization import *\n",
    "# Loading your IBM Q account(s)\n",
    "provider = IBMQ.load_account()"
   ]
  },
  {
   "cell_type": "code",
   "execution_count": 2,
   "metadata": {},
   "outputs": [],
   "source": [
    "def controlled_Z(circuit, control, target):\n",
    "    circuit.h(target)\n",
    "    circuit.cx(control, target)\n",
    "    circuit.h(target)"
   ]
  },
  {
   "cell_type": "code",
   "execution_count": 3,
   "metadata": {},
   "outputs": [],
   "source": [
    "def phase_oracle(circuit, registers):\n",
    "    # Call function that implements CZ gate\n",
    "    controlled_Z(circuit, registers[0], registers[1])"
   ]
  },
  {
   "cell_type": "code",
   "execution_count": 4,
   "metadata": {},
   "outputs": [],
   "source": [
    "def grover_diffusion(circuit, registers):\n",
    "    # Apply Hadamard and X gates on all qubits\n",
    "    circuit.h(registers)\n",
    "    circuit.x(registers)\n",
    "    \n",
    "    #Create a barrier that isolates different sections of the circuit\n",
    "    circuit.barrier()\n",
    "    \n",
    "    # Apply CZ gate with target as quibit 1\n",
    "    controlled_Z(circuit, registers[0], registers[1])\n",
    "    \n",
    "    circuit.barrier()\n",
    "    circuit.x(registers)\n",
    "    circuit.h(registers)"
   ]
  },
  {
   "cell_type": "code",
   "execution_count": 5,
   "metadata": {},
   "outputs": [
    {
     "data": {
      "image/png": "[encoded data removed]",
      "text/plain": [
       "<Figure size 1237.21x204.68 with 1 Axes>"
      ]
     },
     "execution_count": 5,
     "metadata": {},
     "output_type": "execute_result"
    }
   ],
   "source": [
    "# Define circuit constants\n",
    "Qubits = 2\n",
    "tests = 1\n",
    "\n",
    "# Define register objects\n",
    "qr = QuantumRegister(Qubits)\n",
    "cr = ClassicalRegister(Qubits)\n",
    "groverCircuit = QuantumCircuit(qr, cr)\n",
    "\n",
    "# Initialize circuit with Hadamard gates\n",
    "groverCircuit.h(qr)\n",
    "\n",
    "# Run phase oracle and diffusion operators\n",
    "# Can be run multiple times depending on the variable, tests.\n",
    "for test in range(0,tests):\n",
    "    groverCircuit.barrier()\n",
    "    phase_oracle(groverCircuit, qr)\n",
    "    groverCircuit.barrier()\n",
    "    grover_diffusion(groverCircuit, qr)\n",
    "    \n",
    "# Measure quantum registers\n",
    "groverCircuit.barrier()\n",
    "groverCircuit.measure(qr,cr)\n",
    "# Draw Circuit\n",
    "groverCircuit.draw(output=\"mpl\")"
   ]
  },
  {
   "cell_type": "code",
   "execution_count": 6,
   "metadata": {},
   "outputs": [
    {
     "data": {
      "image/png": "[encoded data removed]",
      "text/plain": [
       "<Figure size 504x360 with 1 Axes>"
      ]
     },
     "execution_count": 6,
     "metadata": {},
     "output_type": "execute_result"
    }
   ],
   "source": [
    "# Define backend that will simualte quantum circuit\n",
    "backend = BasicAer.get_backend('qasm_simulator')\n",
    "\n",
    "# Number of times the circuit is ran\n",
    "shots = 1024\n",
    "\n",
    "# Execute circuit and plot results on histogram\n",
    "results = execute(groverCircuit, backend=backend, shots=shots).result()\n",
    "\n",
    "answer = results.get_counts()\n",
    "plot_histogram(answer)"
   ]
  }
 ],
 "metadata": {
  "kernelspec": {
   "display_name": "Python 3",
   "language": "python",
   "name": "python3"
  },
  "language_info": {
   "codemirror_mode": {
    "name": "ipython",
    "version": 3
   },
   "file_extension": ".py",
   "mimetype": "text/x-python",
   "name": "python",
   "nbconvert_exporter": "python",
   "pygments_lexer": "ipython3",
   "version": "3.7.8"
  }
 },
 "nbformat": 4,
 "nbformat_minor": 4
}
